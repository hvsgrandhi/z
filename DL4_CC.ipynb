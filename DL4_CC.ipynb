{
 "cells": [
  {
   "cell_type": "code",
   "execution_count": 84,
   "id": "24d12395-cd1e-41d9-ad0d-3b28b051ca69",
   "metadata": {},
   "outputs": [],
   "source": [
    "import pandas as pd\n",
    "import numpy as np\n",
    "import os\n",
    "\n",
    "import matplotlib.pyplot as plt\n",
    "\n",
    "from sklearn.manifold import TSNE\n",
    "from sklearn.model_selection import train_test_split\n",
    "from sklearn.preprocessing import RobustScaler\n",
    "\n",
    "from sklearn.linear_model import LogisticRegression\n",
    "from sklearn.svm import SVC\n",
    "\n",
    "from sklearn.metrics import classification_report, confusion_matrix, accuracy_score\n",
    "\n",
    "from keras import layers\n",
    "from keras.layers import Input, Dense\n",
    "from keras.models import Model, Sequential \n",
    "from keras import regularizers"
   ]
  },
  {
   "cell_type": "code",
   "execution_count": 85,
   "id": "8803a537-8a28-472a-ad18-47d5681d77d7",
   "metadata": {},
   "outputs": [],
   "source": [
    "PATH_TO_DATA = r'C:\\Users\\naman\\OneDrive\\Desktop\\Deep Learning\\creditcard.csv'\n",
    "card_df  = pd.read_csv(PATH_TO_DATA,header=0)"
   ]
  },
  {
   "cell_type": "code",
   "execution_count": 86,
   "id": "50fc96ea-ff6d-477b-bb8d-d2e18c7441a1",
   "metadata": {},
   "outputs": [
    {
     "data": {
      "text/html": [
       "<div>\n",
       "<style scoped>\n",
       "    .dataframe tbody tr th:only-of-type {\n",
       "        vertical-align: middle;\n",
       "    }\n",
       "\n",
       "    .dataframe tbody tr th {\n",
       "        vertical-align: top;\n",
       "    }\n",
       "\n",
       "    .dataframe thead th {\n",
       "        text-align: right;\n",
       "    }\n",
       "</style>\n",
       "<table border=\"1\" class=\"dataframe\">\n",
       "  <thead>\n",
       "    <tr style=\"text-align: right;\">\n",
       "      <th></th>\n",
       "      <th>Time</th>\n",
       "      <th>V1</th>\n",
       "      <th>V2</th>\n",
       "      <th>V3</th>\n",
       "      <th>V4</th>\n",
       "      <th>V5</th>\n",
       "      <th>V6</th>\n",
       "      <th>V7</th>\n",
       "      <th>V8</th>\n",
       "      <th>V9</th>\n",
       "      <th>...</th>\n",
       "      <th>V21</th>\n",
       "      <th>V22</th>\n",
       "      <th>V23</th>\n",
       "      <th>V24</th>\n",
       "      <th>V25</th>\n",
       "      <th>V26</th>\n",
       "      <th>V27</th>\n",
       "      <th>V28</th>\n",
       "      <th>Amount</th>\n",
       "      <th>Class</th>\n",
       "    </tr>\n",
       "  </thead>\n",
       "  <tbody>\n",
       "    <tr>\n",
       "      <th>0</th>\n",
       "      <td>0.0</td>\n",
       "      <td>-1.359807</td>\n",
       "      <td>-0.072781</td>\n",
       "      <td>2.536347</td>\n",
       "      <td>1.378155</td>\n",
       "      <td>-0.338321</td>\n",
       "      <td>0.462388</td>\n",
       "      <td>0.239599</td>\n",
       "      <td>0.098698</td>\n",
       "      <td>0.363787</td>\n",
       "      <td>...</td>\n",
       "      <td>-0.018307</td>\n",
       "      <td>0.277838</td>\n",
       "      <td>-0.110474</td>\n",
       "      <td>0.066928</td>\n",
       "      <td>0.128539</td>\n",
       "      <td>-0.189115</td>\n",
       "      <td>0.133558</td>\n",
       "      <td>-0.021053</td>\n",
       "      <td>149.62</td>\n",
       "      <td>0</td>\n",
       "    </tr>\n",
       "    <tr>\n",
       "      <th>1</th>\n",
       "      <td>0.0</td>\n",
       "      <td>1.191857</td>\n",
       "      <td>0.266151</td>\n",
       "      <td>0.166480</td>\n",
       "      <td>0.448154</td>\n",
       "      <td>0.060018</td>\n",
       "      <td>-0.082361</td>\n",
       "      <td>-0.078803</td>\n",
       "      <td>0.085102</td>\n",
       "      <td>-0.255425</td>\n",
       "      <td>...</td>\n",
       "      <td>-0.225775</td>\n",
       "      <td>-0.638672</td>\n",
       "      <td>0.101288</td>\n",
       "      <td>-0.339846</td>\n",
       "      <td>0.167170</td>\n",
       "      <td>0.125895</td>\n",
       "      <td>-0.008983</td>\n",
       "      <td>0.014724</td>\n",
       "      <td>2.69</td>\n",
       "      <td>0</td>\n",
       "    </tr>\n",
       "    <tr>\n",
       "      <th>2</th>\n",
       "      <td>1.0</td>\n",
       "      <td>-1.358354</td>\n",
       "      <td>-1.340163</td>\n",
       "      <td>1.773209</td>\n",
       "      <td>0.379780</td>\n",
       "      <td>-0.503198</td>\n",
       "      <td>1.800499</td>\n",
       "      <td>0.791461</td>\n",
       "      <td>0.247676</td>\n",
       "      <td>-1.514654</td>\n",
       "      <td>...</td>\n",
       "      <td>0.247998</td>\n",
       "      <td>0.771679</td>\n",
       "      <td>0.909412</td>\n",
       "      <td>-0.689281</td>\n",
       "      <td>-0.327642</td>\n",
       "      <td>-0.139097</td>\n",
       "      <td>-0.055353</td>\n",
       "      <td>-0.059752</td>\n",
       "      <td>378.66</td>\n",
       "      <td>0</td>\n",
       "    </tr>\n",
       "    <tr>\n",
       "      <th>3</th>\n",
       "      <td>1.0</td>\n",
       "      <td>-0.966272</td>\n",
       "      <td>-0.185226</td>\n",
       "      <td>1.792993</td>\n",
       "      <td>-0.863291</td>\n",
       "      <td>-0.010309</td>\n",
       "      <td>1.247203</td>\n",
       "      <td>0.237609</td>\n",
       "      <td>0.377436</td>\n",
       "      <td>-1.387024</td>\n",
       "      <td>...</td>\n",
       "      <td>-0.108300</td>\n",
       "      <td>0.005274</td>\n",
       "      <td>-0.190321</td>\n",
       "      <td>-1.175575</td>\n",
       "      <td>0.647376</td>\n",
       "      <td>-0.221929</td>\n",
       "      <td>0.062723</td>\n",
       "      <td>0.061458</td>\n",
       "      <td>123.50</td>\n",
       "      <td>0</td>\n",
       "    </tr>\n",
       "    <tr>\n",
       "      <th>4</th>\n",
       "      <td>2.0</td>\n",
       "      <td>-1.158233</td>\n",
       "      <td>0.877737</td>\n",
       "      <td>1.548718</td>\n",
       "      <td>0.403034</td>\n",
       "      <td>-0.407193</td>\n",
       "      <td>0.095921</td>\n",
       "      <td>0.592941</td>\n",
       "      <td>-0.270533</td>\n",
       "      <td>0.817739</td>\n",
       "      <td>...</td>\n",
       "      <td>-0.009431</td>\n",
       "      <td>0.798278</td>\n",
       "      <td>-0.137458</td>\n",
       "      <td>0.141267</td>\n",
       "      <td>-0.206010</td>\n",
       "      <td>0.502292</td>\n",
       "      <td>0.219422</td>\n",
       "      <td>0.215153</td>\n",
       "      <td>69.99</td>\n",
       "      <td>0</td>\n",
       "    </tr>\n",
       "  </tbody>\n",
       "</table>\n",
       "<p>5 rows × 31 columns</p>\n",
       "</div>"
      ],
      "text/plain": [
       "   Time        V1        V2        V3        V4        V5        V6        V7  \\\n",
       "0   0.0 -1.359807 -0.072781  2.536347  1.378155 -0.338321  0.462388  0.239599   \n",
       "1   0.0  1.191857  0.266151  0.166480  0.448154  0.060018 -0.082361 -0.078803   \n",
       "2   1.0 -1.358354 -1.340163  1.773209  0.379780 -0.503198  1.800499  0.791461   \n",
       "3   1.0 -0.966272 -0.185226  1.792993 -0.863291 -0.010309  1.247203  0.237609   \n",
       "4   2.0 -1.158233  0.877737  1.548718  0.403034 -0.407193  0.095921  0.592941   \n",
       "\n",
       "         V8        V9  ...       V21       V22       V23       V24       V25  \\\n",
       "0  0.098698  0.363787  ... -0.018307  0.277838 -0.110474  0.066928  0.128539   \n",
       "1  0.085102 -0.255425  ... -0.225775 -0.638672  0.101288 -0.339846  0.167170   \n",
       "2  0.247676 -1.514654  ...  0.247998  0.771679  0.909412 -0.689281 -0.327642   \n",
       "3  0.377436 -1.387024  ... -0.108300  0.005274 -0.190321 -1.175575  0.647376   \n",
       "4 -0.270533  0.817739  ... -0.009431  0.798278 -0.137458  0.141267 -0.206010   \n",
       "\n",
       "        V26       V27       V28  Amount  Class  \n",
       "0 -0.189115  0.133558 -0.021053  149.62      0  \n",
       "1  0.125895 -0.008983  0.014724    2.69      0  \n",
       "2 -0.139097 -0.055353 -0.059752  378.66      0  \n",
       "3 -0.221929  0.062723  0.061458  123.50      0  \n",
       "4  0.502292  0.219422  0.215153   69.99      0  \n",
       "\n",
       "[5 rows x 31 columns]"
      ]
     },
     "execution_count": 86,
     "metadata": {},
     "output_type": "execute_result"
    }
   ],
   "source": [
    "card_df.head()"
   ]
  },
  {
   "cell_type": "code",
   "execution_count": 87,
   "id": "781ae74d-e11e-4d6c-bdfa-f97bc901c405",
   "metadata": {},
   "outputs": [],
   "source": [
    "card_df['Time'] = card_df['Time'].apply(lambda t: (t/3600) % 24 )"
   ]
  },
  {
   "cell_type": "code",
   "execution_count": 88,
   "id": "db3158f9-cb4e-4038-9059-4c3f3a5976aa",
   "metadata": {},
   "outputs": [],
   "source": [
    "normal_trans = card_df[card_df['Class'] == 0].sample(4000)\n",
    "fraud_trans = card_df[card_df['Class'] == 1]"
   ]
  },
  {
   "cell_type": "code",
   "execution_count": 89,
   "id": "5df70bc0-922d-4c73-9320-0d374c17274d",
   "metadata": {},
   "outputs": [],
   "source": [
    "reduced_set = pd.concat([normal_trans, fraud_trans], ignore_index=True)"
   ]
  },
  {
   "cell_type": "code",
   "execution_count": 90,
   "id": "2891ce17-3d65-4b8f-be21-54e71224c431",
   "metadata": {},
   "outputs": [
    {
     "name": "stdout",
     "output_type": "stream",
     "text": [
      "Cleansed dataset shape : (4492, 31)\n"
     ]
    }
   ],
   "source": [
    "print(f\"Cleansed dataset shape : {reduced_set.shape}\")"
   ]
  },
  {
   "cell_type": "code",
   "execution_count": 91,
   "id": "59e2463e-6edd-431e-8990-a9cbfd104dc7",
   "metadata": {},
   "outputs": [],
   "source": [
    "y = reduced_set['Class']\n",
    "X = reduced_set.drop('Class', axis=1)"
   ]
  },
  {
   "cell_type": "code",
   "execution_count": 92,
   "id": "07b8c0eb-2530-4732-8be8-1c52d05ed041",
   "metadata": {},
   "outputs": [
    {
     "name": "stdout",
     "output_type": "stream",
     "text": [
      "Shape of Features : (4492, 30) and Target: (4492,)\n"
     ]
    }
   ],
   "source": [
    "print(f\"Shape of Features : {X.shape} and Target: {y.shape}\")"
   ]
  },
  {
   "cell_type": "code",
   "execution_count": 93,
   "id": "197b5519-53ca-488d-9b3d-f2b7c6716f53",
   "metadata": {},
   "outputs": [],
   "source": [
    "scaler = RobustScaler().fit_transform(X)\n",
    "\n",
    "# Scaled data\n",
    "X_scaled_normal = scaler[y == 0]\n",
    "X_scaled_fraud = scaler[y == 1]"
   ]
  },
  {
   "cell_type": "code",
   "execution_count": 94,
   "id": "3ceeabd8-c0a1-411d-9250-32fd78642b4f",
   "metadata": {},
   "outputs": [
    {
     "name": "stdout",
     "output_type": "stream",
     "text": [
      "Shape of the input data : 30\n"
     ]
    }
   ],
   "source": [
    "print(f\"Shape of the input data : {X.shape[1]}\")"
   ]
  },
  {
   "cell_type": "code",
   "execution_count": 95,
   "id": "966a4b5f-affa-4ec6-b9b6-7062f02a5f42",
   "metadata": {},
   "outputs": [],
   "source": [
    "input_layer = Input(shape = (X.shape[1], ))\n",
    "\n",
    "# Construct encoder network\n",
    "encoded = Dense(100, activation= 'tanh', activity_regularizer=regularizers.l1(10e-5))(input_layer)\n",
    "encoded = Dense(50, activation='tanh', activity_regularizer=regularizers.l1(10e-5))(encoded)\n",
    "encoded = Dense(25, activation='tanh', activity_regularizer=regularizers.l1(10e-5))(encoded)\n",
    "encoded = Dense(12, activation = 'tanh', activity_regularizer=regularizers.l1(10e-5))(encoded)\n",
    "encoded = Dense(6, activation='relu')(encoded)\n",
    "\n",
    "# Decoder network\n",
    "decoded = Dense(12, activation='tanh')(encoded)\n",
    "decoded = Dense(25, activation='tanh')(decoded)\n",
    "decoded = Dense(50, activation='tanh')(decoded)\n",
    "decoded = Dense(100, activation='tanh')(decoded)\n",
    "\n",
    "output_layer = Dense(X.shape[1], activation='relu')(decoded)\n",
    "\n",
    "# Building a model\n",
    "auto_encoder = Model(input_layer, output_layer)"
   ]
  },
  {
   "cell_type": "code",
   "execution_count": 96,
   "id": "8b48a3c0-aec4-4b1a-9b9c-770c9fa70cf0",
   "metadata": {},
   "outputs": [
    {
     "name": "stdout",
     "output_type": "stream",
     "text": [
      "Epoch 1/20\n",
      "100/100 [==============================] - 2s 11ms/step - loss: 1.6000 - val_loss: 1.3666\n",
      "Epoch 2/20\n",
      "100/100 [==============================] - 1s 9ms/step - loss: 1.5996 - val_loss: 1.3663\n",
      "Epoch 3/20\n",
      "100/100 [==============================] - 1s 8ms/step - loss: 1.5993 - val_loss: 1.3659\n",
      "Epoch 4/20\n",
      "100/100 [==============================] - 1s 9ms/step - loss: 1.5989 - val_loss: 1.3655\n",
      "Epoch 5/20\n",
      "100/100 [==============================] - 1s 9ms/step - loss: 1.5985 - val_loss: 1.3652\n",
      "Epoch 6/20\n",
      "100/100 [==============================] - 1s 9ms/step - loss: 1.5982 - val_loss: 1.3649\n",
      "Epoch 7/20\n",
      "100/100 [==============================] - 1s 9ms/step - loss: 1.5979 - val_loss: 1.3645\n",
      "Epoch 8/20\n",
      "100/100 [==============================] - 1s 11ms/step - loss: 1.5975 - val_loss: 1.3642\n",
      "Epoch 9/20\n",
      "100/100 [==============================] - 1s 8ms/step - loss: 1.5972 - val_loss: 1.3639\n",
      "Epoch 10/20\n",
      "100/100 [==============================] - 1s 8ms/step - loss: 1.5969 - val_loss: 1.3635\n",
      "Epoch 11/20\n",
      "100/100 [==============================] - 1s 8ms/step - loss: 1.5965 - val_loss: 1.3632\n",
      "Epoch 12/20\n",
      "100/100 [==============================] - 1s 8ms/step - loss: 1.5962 - val_loss: 1.3629\n",
      "Epoch 13/20\n",
      "100/100 [==============================] - 1s 9ms/step - loss: 1.5959 - val_loss: 1.3625\n",
      "Epoch 14/20\n",
      "100/100 [==============================] - 1s 8ms/step - loss: 1.5956 - val_loss: 1.3622\n",
      "Epoch 15/20\n",
      "100/100 [==============================] - 1s 8ms/step - loss: 1.5953 - val_loss: 1.3619\n",
      "Epoch 16/20\n",
      "100/100 [==============================] - 1s 8ms/step - loss: 1.5949 - val_loss: 1.3616\n",
      "Epoch 17/20\n",
      "100/100 [==============================] - 1s 8ms/step - loss: 1.5946 - val_loss: 1.3613\n",
      "Epoch 18/20\n",
      "100/100 [==============================] - 1s 8ms/step - loss: 1.5943 - val_loss: 1.3610\n",
      "Epoch 19/20\n",
      "100/100 [==============================] - 1s 8ms/step - loss: 1.5940 - val_loss: 1.3607\n",
      "Epoch 20/20\n",
      "100/100 [==============================] - 1s 10ms/step - loss: 1.5937 - val_loss: 1.3604\n"
     ]
    },
    {
     "data": {
      "text/plain": [
       "<keras.callbacks.History at 0x1facf653bb0>"
      ]
     },
     "execution_count": 96,
     "metadata": {},
     "output_type": "execute_result"
    }
   ],
   "source": [
    "auto_encoder.compile(optimizer='adadelta', loss='mse')\n",
    "\n",
    "# Training the auto encoder model\n",
    "auto_encoder.fit(X_scaled_normal, X_scaled_normal, batch_size=32, epochs=20, shuffle=True, validation_split=0.20)"
   ]
  },
  {
   "cell_type": "code",
   "execution_count": 97,
   "id": "f16f88b1-3205-4132-82d1-cd6cd512c87f",
   "metadata": {},
   "outputs": [],
   "source": [
    "latent_model = Sequential()\n",
    "latent_model.add(auto_encoder.layers[0])\n",
    "latent_model.add(auto_encoder.layers[1])\n",
    "latent_model.add(auto_encoder.layers[2])\n",
    "latent_model.add(auto_encoder.layers[3])\n",
    "latent_model.add(auto_encoder.layers[4])"
   ]
  },
  {
   "cell_type": "code",
   "execution_count": 98,
   "id": "b8e093f2-001b-4edd-994e-430198fdf6e6",
   "metadata": {},
   "outputs": [
    {
     "name": "stdout",
     "output_type": "stream",
     "text": [
      "125/125 [==============================] - 0s 2ms/step\n",
      "16/16 [==============================] - 0s 4ms/step\n"
     ]
    }
   ],
   "source": [
    "normal_tran_points = latent_model.predict(X_scaled_normal)\n",
    "fraud_tran_points = latent_model.predict(X_scaled_fraud)\n",
    "# Making as a one collection\n",
    "encoded_X = np.append(normal_tran_points, fraud_tran_points, axis=0)\n",
    "y_normal = np.zeros(normal_tran_points.shape[0])\n",
    "y_fraud = np.ones(fraud_tran_points.shape[0])\n",
    "encoded_y = np.append(y_normal, y_fraud, axis=0)"
   ]
  },
  {
   "cell_type": "code",
   "execution_count": 99,
   "id": "a7d065ac-13db-4ecf-997b-4e6b1c5c41a5",
   "metadata": {},
   "outputs": [],
   "source": [
    "X_train, X_test, y_train, y_test = train_test_split(X, y, test_size=0.3)\n",
    "X_enc_train, X_enc_test, y_enc_train, y_enc_test = train_test_split(encoded_X, encoded_y, test_size=0.3)"
   ]
  },
  {
   "cell_type": "code",
   "execution_count": 100,
   "id": "0b3e9958-9f5d-4b39-a811-b3dd7bf1bec5",
   "metadata": {},
   "outputs": [
    {
     "name": "stdout",
     "output_type": "stream",
     "text": [
      "Encoded train data X: (3144, 12), Y: (3144,), X_test :(1348, 12), Y_test: (1348,)\n",
      "Actual train & test data X: (3144, 30), Y: (3144, 30), X_test :(1348, 30), Y_test: (1348,)\n"
     ]
    }
   ],
   "source": [
    "print(f\"Encoded train data X: {X_enc_train.shape}, Y: {y_enc_train.shape}, X_test :{X_enc_test.shape}, Y_test: {y_enc_test.shape}\")\n",
    "print(f\"Actual train & test data X: {X_train.shape}, Y: {X_train.shape}, X_test :{X_test.shape}, Y_test: {y_test.shape}\")"
   ]
  },
  {
   "cell_type": "code",
   "execution_count": 101,
   "id": "81600add-0ee8-48ac-9841-359170b3ef80",
   "metadata": {},
   "outputs": [],
   "source": [
    "svc_clf = SVC()\n",
    "\n",
    "svc_clf.fit(X_train, y_train)\n",
    "\n",
    "svc_predictions = svc_clf.predict(X_test)"
   ]
  },
  {
   "cell_type": "code",
   "execution_count": 102,
   "id": "f197f43a-54eb-420f-b16b-1afa6f65afc1",
   "metadata": {},
   "outputs": [
    {
     "name": "stdout",
     "output_type": "stream",
     "text": [
      "Classification report \n",
      "               precision    recall  f1-score   support\n",
      "\n",
      "           0       0.93      1.00      0.96      1190\n",
      "           1       1.00      0.45      0.62       158\n",
      "\n",
      "    accuracy                           0.94      1348\n",
      "   macro avg       0.97      0.72      0.79      1348\n",
      "weighted avg       0.94      0.94      0.92      1348\n",
      "\n"
     ]
    }
   ],
   "source": [
    "print(\"Classification report \\n {0}\".format(classification_report(y_test, svc_predictions)))"
   ]
  },
  {
   "cell_type": "code",
   "execution_count": 103,
   "id": "393b2c24-4d82-432a-849c-0b9bdc8c29be",
   "metadata": {},
   "outputs": [
    {
     "name": "stdout",
     "output_type": "stream",
     "text": [
      "Accuracy of SVC \n",
      " 0.94\n"
     ]
    }
   ],
   "source": [
    "print(\"Accuracy of SVC \\n {:.2f}\".format(accuracy_score(y_test, svc_predictions)))"
   ]
  },
  {
   "cell_type": "code",
   "execution_count": 104,
   "id": "5a65b201-c521-4f61-b0f8-225e8d66c788",
   "metadata": {},
   "outputs": [],
   "source": [
    "lr_clf = LogisticRegression()\n",
    "\n",
    "lr_clf.fit(X_enc_train, y_enc_train)\n",
    "\n",
    "# Predict the Test data\n",
    "predictions = lr_clf.predict(X_enc_test)"
   ]
  },
  {
   "cell_type": "code",
   "execution_count": 105,
   "id": "5f9dc4e4-9752-48e3-8197-e8bd2e382282",
   "metadata": {},
   "outputs": [
    {
     "name": "stdout",
     "output_type": "stream",
     "text": [
      "Classification report \n",
      "               precision    recall  f1-score   support\n",
      "\n",
      "         0.0       0.96      1.00      0.98      1216\n",
      "         1.0       0.96      0.65      0.77       132\n",
      "\n",
      "    accuracy                           0.96      1348\n",
      "   macro avg       0.96      0.82      0.88      1348\n",
      "weighted avg       0.96      0.96      0.96      1348\n",
      "\n"
     ]
    }
   ],
   "source": [
    "print(\"Classification report \\n {0}\".format(classification_report(y_enc_test, predictions)))"
   ]
  },
  {
   "cell_type": "code",
   "execution_count": 106,
   "id": "82bb7f9c-080a-42ea-b379-a848069af833",
   "metadata": {},
   "outputs": [
    {
     "name": "stdout",
     "output_type": "stream",
     "text": [
      "Accuracy score is : 0.96\n"
     ]
    }
   ],
   "source": [
    "print(\"Accuracy score is : {:.2f}\".format(accuracy_score(y_enc_test, predictions)))"
   ]
  },
  {
   "cell_type": "code",
   "execution_count": null,
   "id": "2e500817-3d5e-4676-bded-f8c4adcf7a35",
   "metadata": {},
   "outputs": [],
   "source": []
  }
 ],
 "metadata": {
  "kernelspec": {
   "display_name": "Python 3 (ipykernel)",
   "language": "python",
   "name": "python3"
  },
  "language_info": {
   "codemirror_mode": {
    "name": "ipython",
    "version": 3
   },
   "file_extension": ".py",
   "mimetype": "text/x-python",
   "name": "python",
   "nbconvert_exporter": "python",
   "pygments_lexer": "ipython3",
   "version": "3.10.14"
  }
 },
 "nbformat": 4,
 "nbformat_minor": 5
}
